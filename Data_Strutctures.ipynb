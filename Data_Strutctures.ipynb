{
  "nbformat": 4,
  "nbformat_minor": 0,
  "metadata": {
    "colab": {
      "name": "Data_Strutctures.ipynb",
      "provenance": [],
      "collapsed_sections": [],
      "authorship_tag": "ABX9TyM96zGXKzJUjcLhTlLIjGsP",
      "include_colab_link": true
    },
    "kernelspec": {
      "name": "python3",
      "display_name": "Python 3"
    },
    "language_info": {
      "name": "python"
    }
  },
  "cells": [
    {
      "cell_type": "markdown",
      "metadata": {
        "id": "view-in-github",
        "colab_type": "text"
      },
      "source": [
        "<a href=\"https://colab.research.google.com/github/sainisachin393/CTS-Python-/blob/main/Data_Strutctures.ipynb\" target=\"_parent\"><img src=\"https://colab.research.google.com/assets/colab-badge.svg\" alt=\"Open In Colab\"/></a>"
      ]
    },
    {
      "cell_type": "markdown",
      "source": [
        "# Data Structures\n",
        "\n",
        "1. List\n",
        "2.Tuples\n",
        "3. Set\n",
        "4. Dictionary"
      ],
      "metadata": {
        "id": "CDyPXNyCnuld"
      }
    },
    {
      "cell_type": "markdown",
      "source": [
        "\n",
        "# 1) List : \n",
        "* It is mutable,once it created we can do the changes in it later also.\n",
        "* It is used to store multiple values in a single variable.\n"
      ],
      "metadata": {
        "id": "ObRaTIlWn96Z"
      }
    },
    {
      "cell_type": "code",
      "execution_count": 2,
      "metadata": {
        "id": "kkl0ZnVbndkO"
      },
      "outputs": [],
      "source": [
        "# Creating list\n",
        "l=[1,2,3,\"Ram\",True,False,0]"
      ]
    },
    {
      "cell_type": "markdown",
      "source": [
        "# Checking the possible actions and properties of list"
      ],
      "metadata": {
        "id": "4DWRL70visCD"
      }
    },
    {
      "cell_type": "code",
      "source": [
        "\n",
        "dir(l)"
      ],
      "metadata": {
        "colab": {
          "base_uri": "https://localhost:8080/"
        },
        "id": "WboR5i89owaz",
        "outputId": "596ebc3c-aad1-4c08-d530-8ed26cdb37da"
      },
      "execution_count": 3,
      "outputs": [
        {
          "output_type": "execute_result",
          "data": {
            "text/plain": [
              "['__add__',\n",
              " '__class__',\n",
              " '__contains__',\n",
              " '__delattr__',\n",
              " '__delitem__',\n",
              " '__dir__',\n",
              " '__doc__',\n",
              " '__eq__',\n",
              " '__format__',\n",
              " '__ge__',\n",
              " '__getattribute__',\n",
              " '__getitem__',\n",
              " '__gt__',\n",
              " '__hash__',\n",
              " '__iadd__',\n",
              " '__imul__',\n",
              " '__init__',\n",
              " '__init_subclass__',\n",
              " '__iter__',\n",
              " '__le__',\n",
              " '__len__',\n",
              " '__lt__',\n",
              " '__mul__',\n",
              " '__ne__',\n",
              " '__new__',\n",
              " '__reduce__',\n",
              " '__reduce_ex__',\n",
              " '__repr__',\n",
              " '__reversed__',\n",
              " '__rmul__',\n",
              " '__setattr__',\n",
              " '__setitem__',\n",
              " '__sizeof__',\n",
              " '__str__',\n",
              " '__subclasshook__',\n",
              " 'append',\n",
              " 'clear',\n",
              " 'copy',\n",
              " 'count',\n",
              " 'extend',\n",
              " 'index',\n",
              " 'insert',\n",
              " 'pop',\n",
              " 'remove',\n",
              " 'reverse',\n",
              " 'sort']"
            ]
          },
          "metadata": {},
          "execution_count": 3
        }
      ]
    },
    {
      "cell_type": "markdown",
      "source": [
        "# i) Append()\n",
        "\n",
        "* It is used to add the elements in the list at the last index."
      ],
      "metadata": {
        "id": "8pyJ_RHho7Mb"
      }
    },
    {
      "cell_type": "code",
      "source": [
        "l.append(45) # adding 45 at the last"
      ],
      "metadata": {
        "id": "nSY3Piqwo4Cz"
      },
      "execution_count": 6,
      "outputs": []
    },
    {
      "cell_type": "code",
      "source": [
        "l"
      ],
      "metadata": {
        "colab": {
          "base_uri": "https://localhost:8080/"
        },
        "id": "1WfYgUZJpFf4",
        "outputId": "e7118ad4-5831-4271-e16c-8cf16c4574ed"
      },
      "execution_count": 7,
      "outputs": [
        {
          "output_type": "execute_result",
          "data": {
            "text/plain": [
              "[1, 2, 3, 'Ram', True, False, 0, 45, 45]"
            ]
          },
          "metadata": {},
          "execution_count": 7
        }
      ]
    },
    {
      "cell_type": "markdown",
      "source": [
        "# ii) Clear()\n",
        "\n",
        "* It is used to remove all the elements from the list"
      ],
      "metadata": {
        "id": "1Tw2qB_mpMUV"
      }
    },
    {
      "cell_type": "code",
      "source": [
        "list=['Hi',2,4,5,\"Python\",\"W3 Schools\"] # creating the list"
      ],
      "metadata": {
        "id": "ToVRKoLppGRB"
      },
      "execution_count": 8,
      "outputs": []
    },
    {
      "cell_type": "code",
      "source": [
        "list.clear() # removes all the values from the list"
      ],
      "metadata": {
        "id": "IZfwkpAdpisY"
      },
      "execution_count": 9,
      "outputs": []
    },
    {
      "cell_type": "code",
      "source": [
        "list"
      ],
      "metadata": {
        "colab": {
          "base_uri": "https://localhost:8080/"
        },
        "id": "5kuywie5poUZ",
        "outputId": "912e4c70-ca3e-4fe4-913a-f32a9b71cf56"
      },
      "execution_count": 11,
      "outputs": [
        {
          "output_type": "execute_result",
          "data": {
            "text/plain": [
              "[]"
            ]
          },
          "metadata": {},
          "execution_count": 11
        }
      ]
    },
    {
      "cell_type": "markdown",
      "source": [
        "# iii) Copy()\n",
        "* It will make a duplicate copy of list."
      ],
      "metadata": {
        "id": "zP1-a4t2p5ow"
      }
    },
    {
      "cell_type": "code",
      "source": [
        "new_list=[3,4,5,\"pie\",\"samosa\"]"
      ],
      "metadata": {
        "id": "t2s_pLP0pqQD"
      },
      "execution_count": 14,
      "outputs": []
    },
    {
      "cell_type": "code",
      "source": [
        "x=new_list.copy() # it will make a copy of above list in x"
      ],
      "metadata": {
        "id": "g41KlMYFqD1t"
      },
      "execution_count": 15,
      "outputs": []
    },
    {
      "cell_type": "code",
      "source": [
        "x"
      ],
      "metadata": {
        "colab": {
          "base_uri": "https://localhost:8080/"
        },
        "id": "5TNqb6oEqQCS",
        "outputId": "ae8e6dcb-5127-40bb-ea3f-5bf2177a5705"
      },
      "execution_count": 16,
      "outputs": [
        {
          "output_type": "execute_result",
          "data": {
            "text/plain": [
              "[3, 4, 5, 'pie', 'samosa']"
            ]
          },
          "metadata": {},
          "execution_count": 16
        }
      ]
    },
    {
      "cell_type": "markdown",
      "source": [
        "# iv) Count()\n",
        "* It is used to count the number of  element in the list."
      ],
      "metadata": {
        "id": "VJaRLlDMqcX1"
      }
    },
    {
      "cell_type": "code",
      "source": [
        "b=[1,1,1,1,1,1,2,4,5,6,7,4,4,5,5]"
      ],
      "metadata": {
        "id": "my_yO6ZfqYQy"
      },
      "execution_count": 17,
      "outputs": []
    },
    {
      "cell_type": "code",
      "source": [
        "b.count(1) # it will count the occurance of 1 in the above list."
      ],
      "metadata": {
        "colab": {
          "base_uri": "https://localhost:8080/"
        },
        "id": "GMdFShqjqtX1",
        "outputId": "2b6a0645-4d25-4ff9-addb-5471fc59cc8a"
      },
      "execution_count": 18,
      "outputs": [
        {
          "output_type": "execute_result",
          "data": {
            "text/plain": [
              "6"
            ]
          },
          "metadata": {},
          "execution_count": 18
        }
      ]
    },
    {
      "cell_type": "code",
      "source": [
        "b.count(5) # it will count the occurance of 5 in the above list"
      ],
      "metadata": {
        "colab": {
          "base_uri": "https://localhost:8080/"
        },
        "id": "2muoR-RUqvir",
        "outputId": "c87f558b-098e-4597-f931-fbef16fcb37e"
      },
      "execution_count": 20,
      "outputs": [
        {
          "output_type": "execute_result",
          "data": {
            "text/plain": [
              "3"
            ]
          },
          "metadata": {},
          "execution_count": 20
        }
      ]
    },
    {
      "cell_type": "markdown",
      "source": [
        "# v) Extend()\n",
        "\n",
        "* It is used to add the elements of new list in the previous list but at the last."
      ],
      "metadata": {
        "id": "XnnkvG0Fq_nG"
      }
    },
    {
      "cell_type": "code",
      "source": [
        "c=['ml',\"dl\",\"joins\",1,2,3] \n",
        "d=[1,2,3,4,5] # new list "
      ],
      "metadata": {
        "id": "OZht7nMeq1jx"
      },
      "execution_count": 33,
      "outputs": []
    },
    {
      "cell_type": "code",
      "source": [
        "c.extend(d) # it will add all the elements of list d in c at the last"
      ],
      "metadata": {
        "id": "0drdjy9srVb3"
      },
      "execution_count": 34,
      "outputs": []
    },
    {
      "cell_type": "code",
      "source": [
        "c # updated list"
      ],
      "metadata": {
        "colab": {
          "base_uri": "https://localhost:8080/"
        },
        "id": "WxqVYZFXrmqT",
        "outputId": "a1d8d455-f165-41f1-9abf-e83ff7eed45b"
      },
      "execution_count": 35,
      "outputs": [
        {
          "output_type": "execute_result",
          "data": {
            "text/plain": [
              "['ml', 'dl', 'joins', 1, 2, 3, 1, 2, 3, 4, 5]"
            ]
          },
          "metadata": {},
          "execution_count": 35
        }
      ]
    },
    {
      "cell_type": "markdown",
      "source": [
        "# vi) Index()\n",
        "* It is used to find the position of element in the list.\n",
        "* If there is multiple same element in the list then it will give the position of element which is present first.\n",
        " "
      ],
      "metadata": {
        "id": "bM12Y_I9sDJa"
      }
    },
    {
      "cell_type": "code",
      "source": [
        "e=['pi',3.14,\"c++\",\"DL\",3,4,5,6,3,3,3]"
      ],
      "metadata": {
        "id": "UyF6iVYCrnsm"
      },
      "execution_count": 40,
      "outputs": []
    },
    {
      "cell_type": "code",
      "source": [
        "e.index(3.14) # it will tell at what position 3.14 is in the list."
      ],
      "metadata": {
        "colab": {
          "base_uri": "https://localhost:8080/"
        },
        "id": "tqCc_yqCsYjC",
        "outputId": "ee9abb2a-78eb-4bef-8de9-832293f3d5a7"
      },
      "execution_count": 41,
      "outputs": [
        {
          "output_type": "execute_result",
          "data": {
            "text/plain": [
              "1"
            ]
          },
          "metadata": {},
          "execution_count": 41
        }
      ]
    },
    {
      "cell_type": "code",
      "source": [
        "e.index(3) # it will gives the position of element 3."
      ],
      "metadata": {
        "colab": {
          "base_uri": "https://localhost:8080/"
        },
        "id": "EdHV_guvshfT",
        "outputId": "e9492e59-8653-4aa0-8577-9df78e9a4e71"
      },
      "execution_count": 43,
      "outputs": [
        {
          "output_type": "execute_result",
          "data": {
            "text/plain": [
              "4"
            ]
          },
          "metadata": {},
          "execution_count": 43
        }
      ]
    },
    {
      "cell_type": "markdown",
      "source": [
        "# vii) Insert() \n",
        "* It is used to add the element at specified position in the list.\n"
      ],
      "metadata": {
        "id": "IAXlPOOBt9YX"
      }
    },
    {
      "cell_type": "code",
      "source": [
        "r=[1,2,3,4,\"python\"]"
      ],
      "metadata": {
        "id": "KlDeQ_B3sxyr"
      },
      "execution_count": 44,
      "outputs": []
    },
    {
      "cell_type": "code",
      "source": [
        "r.insert(1,\"Hello\") # It will add hello at position 1 in the list."
      ],
      "metadata": {
        "id": "urZXJI3UuYjH"
      },
      "execution_count": 45,
      "outputs": []
    },
    {
      "cell_type": "code",
      "source": [
        "r"
      ],
      "metadata": {
        "colab": {
          "base_uri": "https://localhost:8080/"
        },
        "id": "J16sQbrqubWQ",
        "outputId": "a14e1ef3-7309-4a97-9e4f-b0c67f4c5535"
      },
      "execution_count": 46,
      "outputs": [
        {
          "output_type": "execute_result",
          "data": {
            "text/plain": [
              "[1, 'Hello', 2, 3, 4, 'python']"
            ]
          },
          "metadata": {},
          "execution_count": 46
        }
      ]
    },
    {
      "cell_type": "markdown",
      "source": [
        "# viii) Pop()\n",
        "* It removes the element at specified position."
      ],
      "metadata": {
        "id": "FcbAiusguh0S"
      }
    },
    {
      "cell_type": "code",
      "source": [
        "j=[1,2,'list','tuple','set']"
      ],
      "metadata": {
        "id": "QGY3tlWFucbd"
      },
      "execution_count": 47,
      "outputs": []
    },
    {
      "cell_type": "code",
      "source": [
        "j.pop(1) # It will remove the element which is present at position 1."
      ],
      "metadata": {
        "colab": {
          "base_uri": "https://localhost:8080/"
        },
        "id": "OkyK_aHwu3qS",
        "outputId": "ea254cdd-e6eb-4b3a-cf25-4aa59a9bcf56"
      },
      "execution_count": 49,
      "outputs": [
        {
          "output_type": "execute_result",
          "data": {
            "text/plain": [
              "2"
            ]
          },
          "metadata": {},
          "execution_count": 49
        }
      ]
    },
    {
      "cell_type": "code",
      "source": [
        "j.pop(2)## It will remove the element which is present at position 2."
      ],
      "metadata": {
        "colab": {
          "base_uri": "https://localhost:8080/",
          "height": 35
        },
        "id": "JbXBi2F1u4-i",
        "outputId": "854a092d-68b1-412e-f2f7-348518bed0f9"
      },
      "execution_count": 52,
      "outputs": [
        {
          "output_type": "execute_result",
          "data": {
            "text/plain": [
              "'tuple'"
            ],
            "application/vnd.google.colaboratory.intrinsic+json": {
              "type": "string"
            }
          },
          "metadata": {},
          "execution_count": 52
        }
      ]
    },
    {
      "cell_type": "code",
      "source": [
        "j # it will gives the updated list after removing the elements at position 1 and 2."
      ],
      "metadata": {
        "colab": {
          "base_uri": "https://localhost:8080/"
        },
        "id": "8QP_av1_vPGR",
        "outputId": "9befdbb6-08ad-4380-996d-854c50cb58d4"
      },
      "execution_count": 53,
      "outputs": [
        {
          "output_type": "execute_result",
          "data": {
            "text/plain": [
              "[1, 'list']"
            ]
          },
          "metadata": {},
          "execution_count": 53
        }
      ]
    },
    {
      "cell_type": "markdown",
      "source": [
        "# ix) Remove()\n",
        "* It will always removes the first occurance of element."
      ],
      "metadata": {
        "id": "MMqvAgtgvgmK"
      }
    },
    {
      "cell_type": "code",
      "source": [
        "p=[1,2,'list','tuple','set',2]"
      ],
      "metadata": {
        "id": "eh48X2_4vX8Q"
      },
      "execution_count": 57,
      "outputs": []
    },
    {
      "cell_type": "code",
      "source": [
        "p.remove('list') # it will remove 'list' from above list."
      ],
      "metadata": {
        "id": "XJYVB1JYv4gW"
      },
      "execution_count": 58,
      "outputs": []
    },
    {
      "cell_type": "code",
      "source": [
        "p\n"
      ],
      "metadata": {
        "colab": {
          "base_uri": "https://localhost:8080/"
        },
        "id": "br8UQJU6v6Hy",
        "outputId": "e46ac1ea-19d3-4c89-a4cc-4c9dbc40ad9e"
      },
      "execution_count": 59,
      "outputs": [
        {
          "output_type": "execute_result",
          "data": {
            "text/plain": [
              "[1, 2, 'tuple', 'set', 2]"
            ]
          },
          "metadata": {},
          "execution_count": 59
        }
      ]
    },
    {
      "cell_type": "code",
      "source": [
        "p.remove(2) # it will remove 2 from above list"
      ],
      "metadata": {
        "id": "fH2xPCm6v7Z6"
      },
      "execution_count": 60,
      "outputs": []
    },
    {
      "cell_type": "code",
      "source": [
        "p  # updated list after removal of elements\n",
        " "
      ],
      "metadata": {
        "colab": {
          "base_uri": "https://localhost:8080/"
        },
        "id": "5JOqXYeVwIDV",
        "outputId": "845ed750-4143-493b-8ea0-18b66132f7a1"
      },
      "execution_count": 61,
      "outputs": [
        {
          "output_type": "execute_result",
          "data": {
            "text/plain": [
              "[1, 'tuple', 'set', 2]"
            ]
          },
          "metadata": {},
          "execution_count": 61
        }
      ]
    },
    {
      "cell_type": "markdown",
      "source": [
        "# x) Reverse()\n",
        "* It is used to reverse the order of list."
      ],
      "metadata": {
        "id": "bZT_XJKYwXLv"
      }
    },
    {
      "cell_type": "code",
      "source": [
        "f=[1,2,3,4,5,6]"
      ],
      "metadata": {
        "id": "EzgqaLaGwJQh"
      },
      "execution_count": 62,
      "outputs": []
    },
    {
      "cell_type": "code",
      "source": [
        "f.reverse()"
      ],
      "metadata": {
        "id": "nyVALBVowec_"
      },
      "execution_count": 63,
      "outputs": []
    },
    {
      "cell_type": "code",
      "source": [
        "f # list after reversing"
      ],
      "metadata": {
        "colab": {
          "base_uri": "https://localhost:8080/"
        },
        "id": "7i9RwAxCwfeh",
        "outputId": "f6a6d84a-d24d-4e04-c6ac-ff458363e532"
      },
      "execution_count": 64,
      "outputs": [
        {
          "output_type": "execute_result",
          "data": {
            "text/plain": [
              "[6, 5, 4, 3, 2, 1]"
            ]
          },
          "metadata": {},
          "execution_count": 64
        }
      ]
    },
    {
      "cell_type": "markdown",
      "source": [
        "# xi) Sort()\n",
        "* It is used to sort the list.\n",
        "* By default it will sort in ascending order."
      ],
      "metadata": {
        "id": "8zU0e0DIwqKf"
      }
    },
    {
      "cell_type": "code",
      "source": [
        "g=[1.2,-1,2,-5,0,5,6,7]"
      ],
      "metadata": {
        "id": "_zyDIDQwwgDX"
      },
      "execution_count": 65,
      "outputs": []
    },
    {
      "cell_type": "code",
      "source": [
        "g.sort()"
      ],
      "metadata": {
        "id": "UE04RW9aw_QF"
      },
      "execution_count": 66,
      "outputs": []
    },
    {
      "cell_type": "code",
      "source": [
        "g # updated list after sorting"
      ],
      "metadata": {
        "colab": {
          "base_uri": "https://localhost:8080/"
        },
        "id": "SJIhe9jCxASq",
        "outputId": "eaec61b8-8685-48c3-bfc0-a899ba60d961"
      },
      "execution_count": 68,
      "outputs": [
        {
          "output_type": "execute_result",
          "data": {
            "text/plain": [
              "[-5, -1, 0, 1.2, 2, 5, 6, 7]"
            ]
          },
          "metadata": {},
          "execution_count": 68
        }
      ]
    },
    {
      "cell_type": "code",
      "source": [
        "\n"
      ],
      "metadata": {
        "id": "cGikAeVuxBOc"
      },
      "execution_count": 68,
      "outputs": []
    },
    {
      "cell_type": "markdown",
      "source": [
        "# 2) Tuple\n",
        "* It is immutable means once it created we can't do changes in it."
      ],
      "metadata": {
        "id": "DDuKUcrmxmrt"
      }
    },
    {
      "cell_type": "code",
      "source": [
        "t=(1,2,3,4,5,6,4)"
      ],
      "metadata": {
        "id": "neYPc4Szxe3j"
      },
      "execution_count": 69,
      "outputs": []
    },
    {
      "cell_type": "code",
      "source": [
        "t.insert(1,2) # it will not run because of it imutable property."
      ],
      "metadata": {
        "colab": {
          "base_uri": "https://localhost:8080/",
          "height": 166
        },
        "id": "NnudDMZJyB_M",
        "outputId": "bc62bd0b-01bf-4bec-b833-e22f755bc79b"
      },
      "execution_count": 70,
      "outputs": [
        {
          "output_type": "error",
          "ename": "AttributeError",
          "evalue": "ignored",
          "traceback": [
            "\u001b[0;31m---------------------------------------------------------------------------\u001b[0m",
            "\u001b[0;31mAttributeError\u001b[0m                            Traceback (most recent call last)",
            "\u001b[0;32m<ipython-input-70-63d5f1a48dfb>\u001b[0m in \u001b[0;36m<module>\u001b[0;34m\u001b[0m\n\u001b[0;32m----> 1\u001b[0;31m \u001b[0mt\u001b[0m\u001b[0;34m.\u001b[0m\u001b[0minsert\u001b[0m\u001b[0;34m(\u001b[0m\u001b[0;36m1\u001b[0m\u001b[0;34m,\u001b[0m\u001b[0;36m2\u001b[0m\u001b[0;34m)\u001b[0m\u001b[0;34m\u001b[0m\u001b[0;34m\u001b[0m\u001b[0m\n\u001b[0m",
            "\u001b[0;31mAttributeError\u001b[0m: 'tuple' object has no attribute 'insert'"
          ]
        }
      ]
    },
    {
      "cell_type": "markdown",
      "source": [
        "#Checking the all the possible action and properties of tuple"
      ],
      "metadata": {
        "id": "HeTKQsQayPPI"
      }
    },
    {
      "cell_type": "code",
      "source": [
        "dir(t)"
      ],
      "metadata": {
        "colab": {
          "base_uri": "https://localhost:8080/"
        },
        "id": "YvRXvaEryFfa",
        "outputId": "9a8e9032-48fc-4817-9446-26977514ba4b"
      },
      "execution_count": 71,
      "outputs": [
        {
          "output_type": "execute_result",
          "data": {
            "text/plain": [
              "['__add__',\n",
              " '__class__',\n",
              " '__contains__',\n",
              " '__delattr__',\n",
              " '__dir__',\n",
              " '__doc__',\n",
              " '__eq__',\n",
              " '__format__',\n",
              " '__ge__',\n",
              " '__getattribute__',\n",
              " '__getitem__',\n",
              " '__getnewargs__',\n",
              " '__gt__',\n",
              " '__hash__',\n",
              " '__init__',\n",
              " '__init_subclass__',\n",
              " '__iter__',\n",
              " '__le__',\n",
              " '__len__',\n",
              " '__lt__',\n",
              " '__mul__',\n",
              " '__ne__',\n",
              " '__new__',\n",
              " '__reduce__',\n",
              " '__reduce_ex__',\n",
              " '__repr__',\n",
              " '__rmul__',\n",
              " '__setattr__',\n",
              " '__sizeof__',\n",
              " '__str__',\n",
              " '__subclasshook__',\n",
              " 'count',\n",
              " 'index']"
            ]
          },
          "metadata": {},
          "execution_count": 71
        }
      ]
    },
    {
      "cell_type": "markdown",
      "source": [
        "# i) Count()\n",
        "* It will count the occurance of given element in the tuple\n",
        "."
      ],
      "metadata": {
        "id": "ABlXQi2zyX7v"
      }
    },
    {
      "cell_type": "code",
      "source": [
        "t.count(4) # it will count the occurance of 4 in the tuple"
      ],
      "metadata": {
        "colab": {
          "base_uri": "https://localhost:8080/"
        },
        "id": "iL8BQrnAyU6s",
        "outputId": "3e122743-a219-4a49-f697-812f1cc6b537"
      },
      "execution_count": 72,
      "outputs": [
        {
          "output_type": "execute_result",
          "data": {
            "text/plain": [
              "2"
            ]
          },
          "metadata": {},
          "execution_count": 72
        }
      ]
    },
    {
      "cell_type": "markdown",
      "source": [
        "# ii) Index()\n",
        "* It is used to find the position of element in the tuple."
      ],
      "metadata": {
        "id": "z6uvB-YvyrTM"
      }
    },
    {
      "cell_type": "code",
      "source": [
        "t.index(3) # it will gives the position of element 3"
      ],
      "metadata": {
        "colab": {
          "base_uri": "https://localhost:8080/"
        },
        "id": "iVODbqlzygHU",
        "outputId": "8f43c5a8-1b1e-4530-ee99-e1268dad53e0"
      },
      "execution_count": 74,
      "outputs": [
        {
          "output_type": "execute_result",
          "data": {
            "text/plain": [
              "2"
            ]
          },
          "metadata": {},
          "execution_count": 74
        }
      ]
    },
    {
      "cell_type": "markdown",
      "source": [
        "# 3) Sets\n",
        "* It stores multiple value in single variable.\n",
        "* It is unordered and unindexed."
      ],
      "metadata": {
        "id": "o-UU0f7Ay8lH"
      }
    },
    {
      "cell_type": "code",
      "source": [
        "s={1,2,3,3,3,2,5}"
      ],
      "metadata": {
        "id": "SbYAAk7py1xh"
      },
      "execution_count": 75,
      "outputs": []
    },
    {
      "cell_type": "code",
      "source": [
        "s"
      ],
      "metadata": {
        "colab": {
          "base_uri": "https://localhost:8080/"
        },
        "id": "7YKIxVDEzM2O",
        "outputId": "6db4bf6e-b6a1-4579-8450-f3d3c3e9e01d"
      },
      "execution_count": 76,
      "outputs": [
        {
          "output_type": "execute_result",
          "data": {
            "text/plain": [
              "{1, 2, 3, 5}"
            ]
          },
          "metadata": {},
          "execution_count": 76
        }
      ]
    },
    {
      "cell_type": "markdown",
      "source": [
        "#Checking all the possible actions and properties of Sets."
      ],
      "metadata": {
        "id": "FR3fMTyAzRGK"
      }
    },
    {
      "cell_type": "code",
      "source": [
        "dir(s)"
      ],
      "metadata": {
        "colab": {
          "base_uri": "https://localhost:8080/"
        },
        "id": "5WGVV_I5zNPJ",
        "outputId": "074ee35d-e4ff-4a64-8512-eb1cd32eb499"
      },
      "execution_count": 77,
      "outputs": [
        {
          "output_type": "execute_result",
          "data": {
            "text/plain": [
              "['__and__',\n",
              " '__class__',\n",
              " '__contains__',\n",
              " '__delattr__',\n",
              " '__dir__',\n",
              " '__doc__',\n",
              " '__eq__',\n",
              " '__format__',\n",
              " '__ge__',\n",
              " '__getattribute__',\n",
              " '__gt__',\n",
              " '__hash__',\n",
              " '__iand__',\n",
              " '__init__',\n",
              " '__init_subclass__',\n",
              " '__ior__',\n",
              " '__isub__',\n",
              " '__iter__',\n",
              " '__ixor__',\n",
              " '__le__',\n",
              " '__len__',\n",
              " '__lt__',\n",
              " '__ne__',\n",
              " '__new__',\n",
              " '__or__',\n",
              " '__rand__',\n",
              " '__reduce__',\n",
              " '__reduce_ex__',\n",
              " '__repr__',\n",
              " '__ror__',\n",
              " '__rsub__',\n",
              " '__rxor__',\n",
              " '__setattr__',\n",
              " '__sizeof__',\n",
              " '__str__',\n",
              " '__sub__',\n",
              " '__subclasshook__',\n",
              " '__xor__',\n",
              " 'add',\n",
              " 'clear',\n",
              " 'copy',\n",
              " 'difference',\n",
              " 'difference_update',\n",
              " 'discard',\n",
              " 'intersection',\n",
              " 'intersection_update',\n",
              " 'isdisjoint',\n",
              " 'issubset',\n",
              " 'issuperset',\n",
              " 'pop',\n",
              " 'remove',\n",
              " 'symmetric_difference',\n",
              " 'symmetric_difference_update',\n",
              " 'union',\n",
              " 'update']"
            ]
          },
          "metadata": {},
          "execution_count": 77
        }
      ]
    },
    {
      "cell_type": "markdown",
      "source": [
        "# i) Add()\n",
        "* It is used to add element in the set\n"
      ],
      "metadata": {
        "id": "X5X1ZnaNztLv"
      }
    },
    {
      "cell_type": "code",
      "source": [
        "new={1,2,\"False\",False,0,\"python\"}"
      ],
      "metadata": {
        "id": "waFXSXfezYS4"
      },
      "execution_count": 78,
      "outputs": []
    },
    {
      "cell_type": "code",
      "source": [
        "new.add(\"dictionary\") # adds dictionary in the above set"
      ],
      "metadata": {
        "id": "vfIOTpGPz9gB"
      },
      "execution_count": 79,
      "outputs": []
    },
    {
      "cell_type": "code",
      "source": [
        "new # it will gives the updated set after adding the element"
      ],
      "metadata": {
        "colab": {
          "base_uri": "https://localhost:8080/"
        },
        "id": "XOR751Yv0BOY",
        "outputId": "01cc2de1-fe28-43c2-b0a3-241a78a09424"
      },
      "execution_count": 81,
      "outputs": [
        {
          "output_type": "execute_result",
          "data": {
            "text/plain": [
              "{1, 2, False, 'False', 'dictionary', 'python'}"
            ]
          },
          "metadata": {},
          "execution_count": 81
        }
      ]
    },
    {
      "cell_type": "markdown",
      "source": [
        "# ii) Clear()\n",
        "* It is used to remove all the elemnts from the set"
      ],
      "metadata": {
        "id": "K1xpbcvT0S02"
      }
    },
    {
      "cell_type": "code",
      "source": [
        "new2={1,2,\"samosa\",\"hi\",False}"
      ],
      "metadata": {
        "id": "1nVxeGwL0Ckq"
      },
      "execution_count": 82,
      "outputs": []
    },
    {
      "cell_type": "code",
      "source": [
        "new2.clear() # removes all the elements from the set"
      ],
      "metadata": {
        "id": "yfG6e9oY0eaF"
      },
      "execution_count": 83,
      "outputs": []
    },
    {
      "cell_type": "code",
      "source": [
        "new2 # gives updated set."
      ],
      "metadata": {
        "colab": {
          "base_uri": "https://localhost:8080/"
        },
        "id": "RmBLZS1p0flU",
        "outputId": "c9bda2df-d0af-4ed1-da35-97d063217a62"
      },
      "execution_count": 84,
      "outputs": [
        {
          "output_type": "execute_result",
          "data": {
            "text/plain": [
              "set()"
            ]
          },
          "metadata": {},
          "execution_count": 84
        }
      ]
    },
    {
      "cell_type": "markdown",
      "source": [
        "# iii) Copy()\n",
        "* It is used to make the duplicte copy of existing set."
      ],
      "metadata": {
        "id": "aofzlea10uP9"
      }
    },
    {
      "cell_type": "code",
      "source": [
        "new3={1,2,3,4,5,6,7,7}"
      ],
      "metadata": {
        "id": "PUs9861w0gdI"
      },
      "execution_count": 88,
      "outputs": []
    },
    {
      "cell_type": "code",
      "source": [
        "new3"
      ],
      "metadata": {
        "colab": {
          "base_uri": "https://localhost:8080/"
        },
        "id": "4uJkOc2804G-",
        "outputId": "34ecc5db-457d-4ccf-b04e-fc285b3ff3c2"
      },
      "execution_count": 89,
      "outputs": [
        {
          "output_type": "execute_result",
          "data": {
            "text/plain": [
              "{1, 2, 3, 4, 5, 6, 7}"
            ]
          },
          "metadata": {},
          "execution_count": 89
        }
      ]
    },
    {
      "cell_type": "code",
      "source": [
        "new4=new3.copy() # it will make a duplicate copy of new3 and assigns to new4"
      ],
      "metadata": {
        "id": "cCxzyN4A05KT"
      },
      "execution_count": 92,
      "outputs": []
    },
    {
      "cell_type": "code",
      "source": [
        "new4 # new set which is duplicate of new3"
      ],
      "metadata": {
        "colab": {
          "base_uri": "https://localhost:8080/"
        },
        "id": "Q20J9ina1C4q",
        "outputId": "366fedae-ccb6-4132-8ae6-f4fa3aedf739"
      },
      "execution_count": 93,
      "outputs": [
        {
          "output_type": "execute_result",
          "data": {
            "text/plain": [
              "{1, 2, 3, 4, 5, 6, 7}"
            ]
          },
          "metadata": {},
          "execution_count": 93
        }
      ]
    },
    {
      "cell_type": "markdown",
      "source": [
        "# iv) Difference()\n",
        "* It returns the difference of two or more sets."
      ],
      "metadata": {
        "id": "VQz1D7A21PfU"
      }
    },
    {
      "cell_type": "code",
      "source": [
        "new5={1,2,3,4,\"hello\"}\n",
        "new6={6,7,3,4,\"Hello\"}\n"
      ],
      "metadata": {
        "id": "6IIUASqg1EAP"
      },
      "execution_count": 94,
      "outputs": []
    },
    {
      "cell_type": "code",
      "source": [
        "new7=new5.difference(new6) # it will removes the elements from new5 which is present in new6"
      ],
      "metadata": {
        "id": "Rn516zRL1xD-"
      },
      "execution_count": 95,
      "outputs": []
    },
    {
      "cell_type": "code",
      "source": [
        "new7 # updated list"
      ],
      "metadata": {
        "colab": {
          "base_uri": "https://localhost:8080/"
        },
        "id": "YnHOe-OC12BM",
        "outputId": "02b17450-1a51-4237-c662-2d75fa3bba4d"
      },
      "execution_count": 97,
      "outputs": [
        {
          "output_type": "execute_result",
          "data": {
            "text/plain": [
              "{1, 2, 'hello'}"
            ]
          },
          "metadata": {},
          "execution_count": 97
        }
      ]
    },
    {
      "cell_type": "markdown",
      "source": [
        "# v) Difference_update()\n",
        "* It is used to Remove the items which are existing in both sets."
      ],
      "metadata": {
        "id": "Xp-ZWLWs2JhJ"
      }
    },
    {
      "cell_type": "code",
      "source": [
        "x = {\"apple\", \"banana\", \"cherry\"}\n",
        "y = {\"google\", \"microsoft\", \"apple\"}\n"
      ],
      "metadata": {
        "id": "529AAXsN13R5"
      },
      "execution_count": 8,
      "outputs": []
    },
    {
      "cell_type": "code",
      "source": [
        "x.difference_update(y) # removes that items from x which are not present in y"
      ],
      "metadata": {
        "id": "JRjEV_RzWqoo"
      },
      "execution_count": 9,
      "outputs": []
    },
    {
      "cell_type": "code",
      "source": [
        "print(x) # gives the updated set"
      ],
      "metadata": {
        "colab": {
          "base_uri": "https://localhost:8080/"
        },
        "id": "dUI5fpGbWuTB",
        "outputId": "a49be7fa-e0d1-4a43-f613-470e20f8b745"
      },
      "execution_count": 11,
      "outputs": [
        {
          "output_type": "stream",
          "name": "stdout",
          "text": [
            "{'banana', 'cherry'}\n"
          ]
        }
      ]
    },
    {
      "cell_type": "markdown",
      "source": [
        "# vi) Discard()\n",
        "* It removes the specific item from the set.\n"
      ],
      "metadata": {
        "id": "dnH0KNXnVfz-"
      }
    },
    {
      "cell_type": "code",
      "source": [
        "fruits = {\"apple\", \"banana\", \"cherry\"}\n",
        "\n",
        "fruits.discard(\"banana\") # removes the banana from fruits\n",
        "\n",
        "print(fruits) # gives updated set "
      ],
      "metadata": {
        "colab": {
          "base_uri": "https://localhost:8080/"
        },
        "id": "Uostl2rJVGpQ",
        "outputId": "2e7b5ac8-ba09-461f-83aa-fd8af5e8046d"
      },
      "execution_count": 2,
      "outputs": [
        {
          "output_type": "stream",
          "name": "stdout",
          "text": [
            "{'cherry', 'apple'}\n"
          ]
        }
      ]
    },
    {
      "cell_type": "markdown",
      "source": [
        "# vii) Intersection()\n",
        "* It returns the set that will contains the common items of two sets."
      ],
      "metadata": {
        "id": "q6chsTWTVtyP"
      }
    },
    {
      "cell_type": "code",
      "source": [
        "x = {\"apple\", \"banana\", \"cherry\"}\n",
        "y = {\"google\", \"microsoft\", \"apple\"}\n",
        "\n",
        "z = x.intersection(y) # gives the common element which are present in both set x and y.\n",
        "\n",
        "print(z)"
      ],
      "metadata": {
        "colab": {
          "base_uri": "https://localhost:8080/"
        },
        "id": "HQWBwBcMVoD-",
        "outputId": "2797f852-0d69-4348-9eb3-5303dfa7d474"
      },
      "execution_count": 3,
      "outputs": [
        {
          "output_type": "stream",
          "name": "stdout",
          "text": [
            "{'apple'}\n"
          ]
        }
      ]
    },
    {
      "cell_type": "markdown",
      "source": [
        "# viii) Intersection_Update()\n",
        "* It removes the element from first set which is not included in second set."
      ],
      "metadata": {
        "id": "KTu6LNaLV_7z"
      }
    },
    {
      "cell_type": "code",
      "source": [
        "b1 = {\"apple\", \"banana\", \"cherry\"}\n",
        "b2 = {\"google\", \"microsoft\", \"apple\"}\n",
        "\n",
        "b1.intersection_update(b2) # removes the element from first set which is not included in second set.\n",
        "\n",
        "print(b1)\n"
      ],
      "metadata": {
        "colab": {
          "base_uri": "https://localhost:8080/"
        },
        "id": "sxB-dRooV8on",
        "outputId": "9ba603b2-deed-4561-fe51-50c3e5717166"
      },
      "execution_count": 5,
      "outputs": [
        {
          "output_type": "stream",
          "name": "stdout",
          "text": [
            "{'apple'}\n"
          ]
        }
      ]
    },
    {
      "cell_type": "markdown",
      "source": [
        "# ix) isdisjoint()\n",
        "* Returns Returns whether two sets have a intersection or not\n",
        "* It will returns True if there is common element in both set otherwise it will return False.\n"
      ],
      "metadata": {
        "id": "Mll_fGEHXZ_H"
      }
    },
    {
      "cell_type": "code",
      "source": [
        "x = {\"apple\", \"banana\", \"cherry\"}\n",
        "y = {\"google\", \"microsoft\", \"facebook\"}\n",
        "\n",
        "z = x.isdisjoint(y) \n",
        "\n",
        "print(z)"
      ],
      "metadata": {
        "colab": {
          "base_uri": "https://localhost:8080/"
        },
        "id": "QSZSDoXIWPBT",
        "outputId": "eb281615-e43b-40c8-b187-6ecf4853839b"
      },
      "execution_count": 12,
      "outputs": [
        {
          "output_type": "stream",
          "name": "stdout",
          "text": [
            "True\n"
          ]
        }
      ]
    },
    {
      "cell_type": "markdown",
      "source": [
        "# x) issubset()\n",
        "* Return True if all items of set x are present in set y:"
      ],
      "metadata": {
        "id": "e1oZ9bkcX4-a"
      }
    },
    {
      "cell_type": "code",
      "source": [
        "x = {\"a\", \"b\", \"c\"}\n",
        "y = {\"f\", \"e\", \"d\", \"c\", \"b\", \"a\"}\n",
        "\n",
        "z = x.issubset(y)\n",
        "\n",
        "print(z)\n"
      ],
      "metadata": {
        "colab": {
          "base_uri": "https://localhost:8080/"
        },
        "id": "PxUCmQE1XqwH",
        "outputId": "faf1e3ab-2ee8-4f1c-cd5e-9d82c5585ef0"
      },
      "execution_count": 13,
      "outputs": [
        {
          "output_type": "stream",
          "name": "stdout",
          "text": [
            "True\n"
          ]
        }
      ]
    },
    {
      "cell_type": "markdown",
      "source": [
        "# xi) issuperset()\n",
        "* Return True if all items of set y are present in set x:"
      ],
      "metadata": {
        "id": "HkITxYZ3bP3_"
      }
    },
    {
      "cell_type": "code",
      "source": [
        "x = {\"f\", \"e\", \"d\", \"c\", \"b\", \"a\"}\n",
        "y = {\"a\", \"b\", \"c\"}\n",
        "\n",
        "z = x.issuperset(y)\n",
        "\n",
        "print(z)"
      ],
      "metadata": {
        "colab": {
          "base_uri": "https://localhost:8080/"
        },
        "id": "lBGftZgsbI7B",
        "outputId": "dab2b062-c245-4a88-f69e-495026085616"
      },
      "execution_count": 14,
      "outputs": [
        {
          "output_type": "stream",
          "name": "stdout",
          "text": [
            "True\n"
          ]
        }
      ]
    },
    {
      "cell_type": "markdown",
      "source": [
        "# xii) pop()\n",
        "* It removes the element from set."
      ],
      "metadata": {
        "id": "NlDsRbhVbrHu"
      }
    },
    {
      "cell_type": "code",
      "source": [
        "fruits = {\"apple\", \"banana\", \"cherry\"}\n",
        "\n",
        "fruits.pop()\n",
        "\n",
        "print(fruits)"
      ],
      "metadata": {
        "colab": {
          "base_uri": "https://localhost:8080/"
        },
        "id": "U8AXVIN0blKF",
        "outputId": "65249e7e-7dd1-4c92-b3b0-d5753ea5ccba"
      },
      "execution_count": 19,
      "outputs": [
        {
          "output_type": "stream",
          "name": "stdout",
          "text": [
            "{'cherry', 'apple'}\n"
          ]
        }
      ]
    },
    {
      "cell_type": "markdown",
      "source": [
        "# xiii) remove()\n",
        "* It removes the specified element from the set."
      ],
      "metadata": {
        "id": "XO8C_eX-cRaM"
      }
    },
    {
      "cell_type": "code",
      "source": [
        "fruits = {\"apple\", \"banana\", \"cherry\"}\n",
        "\n",
        "fruits.remove(\"banana\") # removes \"banana\" from above set\n",
        "\n",
        "print(fruits)"
      ],
      "metadata": {
        "colab": {
          "base_uri": "https://localhost:8080/"
        },
        "id": "gYP2qp6Sb7Bv",
        "outputId": "c885390d-9fac-4cb9-9617-1f35f71c394d"
      },
      "execution_count": 20,
      "outputs": [
        {
          "output_type": "stream",
          "name": "stdout",
          "text": [
            "{'cherry', 'apple'}\n"
          ]
        }
      ]
    },
    {
      "cell_type": "markdown",
      "source": [
        "# xiv) symmetric_difference()\n",
        "* Returns a set with the symmetric differences of two sets"
      ],
      "metadata": {
        "id": "OSREt1ZHcogw"
      }
    },
    {
      "cell_type": "code",
      "source": [
        "x = {\"apple\", \"banana\", \"cherry\"}\n",
        "y = {\"google\", \"microsoft\", \"apple\"}\n",
        "\n",
        "z = x.symmetric_difference(y)\n",
        "\n",
        "print(z)"
      ],
      "metadata": {
        "colab": {
          "base_uri": "https://localhost:8080/"
        },
        "id": "W45GGTTZcYxT",
        "outputId": "17559dc7-7bdc-45d5-f438-5d3a830716dc"
      },
      "execution_count": 21,
      "outputs": [
        {
          "output_type": "stream",
          "name": "stdout",
          "text": [
            "{'cherry', 'banana', 'microsoft', 'google'}\n"
          ]
        }
      ]
    },
    {
      "cell_type": "markdown",
      "source": [
        "# xv) symmetric_difference_update()\n",
        "* Remove the items that are present in both sets, AND insert the items that is not present in both sets\n"
      ],
      "metadata": {
        "id": "Qcjtwde5c9hZ"
      }
    },
    {
      "cell_type": "code",
      "source": [
        "x = {\"apple\", \"banana\", \"cherry\"}\n",
        "y = {\"google\", \"microsoft\", \"apple\"}\n",
        "\n",
        "x.symmetric_difference_update(y)\n",
        "\n",
        "print(x)\n"
      ],
      "metadata": {
        "colab": {
          "base_uri": "https://localhost:8080/"
        },
        "id": "yIxEGa8Tcu0Z",
        "outputId": "4c1a4da2-f91c-47c6-a69c-c395139fef99"
      },
      "execution_count": 22,
      "outputs": [
        {
          "output_type": "stream",
          "name": "stdout",
          "text": [
            "{'cherry', 'banana', 'microsoft', 'google'}\n"
          ]
        }
      ]
    },
    {
      "cell_type": "markdown",
      "source": [
        "# xvi) Union()\n",
        "* Return a set that contains all items from both sets, duplicates are excluded"
      ],
      "metadata": {
        "id": "6az_3-7NdJaI"
      }
    },
    {
      "cell_type": "code",
      "source": [
        "x = {\"apple\", \"banana\", \"cherry\"}\n",
        "y = {\"google\", \"microsoft\", \"apple\"}\n",
        "\n",
        "z = x.union(y)\n",
        "\n",
        "print(z)"
      ],
      "metadata": {
        "colab": {
          "base_uri": "https://localhost:8080/"
        },
        "id": "6cKq-uUxdEC4",
        "outputId": "c52d5a0f-0b45-42c3-cc6e-75c90a883cc3"
      },
      "execution_count": 23,
      "outputs": [
        {
          "output_type": "stream",
          "name": "stdout",
          "text": [
            "{'banana', 'apple', 'microsoft', 'cherry', 'google'}\n"
          ]
        }
      ]
    },
    {
      "cell_type": "markdown",
      "source": [
        "# xvii) Update()\n",
        "* Insert the element from one set to the other set."
      ],
      "metadata": {
        "id": "eW2HdWGGdURM"
      }
    },
    {
      "cell_type": "code",
      "source": [
        "x = {\"apple\", \"banana\", \"cherry\"}\n",
        "y = {\"google\", \"microsoft\", \"apple\"}\n",
        "\n",
        "x.update(y)\n",
        "\n",
        "print(x)"
      ],
      "metadata": {
        "colab": {
          "base_uri": "https://localhost:8080/"
        },
        "id": "xzdALNLKdQ2E",
        "outputId": "51defaf3-12c8-41a4-85ac-6898276b6e86"
      },
      "execution_count": 24,
      "outputs": [
        {
          "output_type": "stream",
          "name": "stdout",
          "text": [
            "{'banana', 'apple', 'microsoft', 'cherry', 'google'}\n"
          ]
        }
      ]
    },
    {
      "cell_type": "markdown",
      "source": [
        "# 4) Dictionary\n",
        "* Dictionaries are used to store data values in key:value pairs.\n",
        "* A dictionary is a collection which is ordered, changeable and do not allow duplicates."
      ],
      "metadata": {
        "id": "b-PE-_dAebiT"
      }
    },
    {
      "cell_type": "code",
      "source": [
        "thisdict = {\n",
        "  \"brand\": \"Ford\",\n",
        "  \"model\": \"Mustang\",\n",
        "  \"year\": 1964\n",
        "}\n",
        "print(thisdict)"
      ],
      "metadata": {
        "colab": {
          "base_uri": "https://localhost:8080/"
        },
        "id": "YWYJs94LdcCV",
        "outputId": "65756ac1-f845-4d3a-ae57-62cb6ea8e38c"
      },
      "execution_count": 25,
      "outputs": [
        {
          "output_type": "stream",
          "name": "stdout",
          "text": [
            "{'brand': 'Ford', 'model': 'Mustang', 'year': 1964}\n"
          ]
        }
      ]
    },
    {
      "cell_type": "code",
      "source": [
        "thisdict.items()"
      ],
      "metadata": {
        "colab": {
          "base_uri": "https://localhost:8080/"
        },
        "id": "FnfRCQ5zeosD",
        "outputId": "afcee8d8-19be-4cdc-8b0f-9efead5bc854"
      },
      "execution_count": 26,
      "outputs": [
        {
          "output_type": "execute_result",
          "data": {
            "text/plain": [
              "dict_items([('brand', 'Ford'), ('model', 'Mustang'), ('year', 1964)])"
            ]
          },
          "metadata": {},
          "execution_count": 26
        }
      ]
    },
    {
      "cell_type": "markdown",
      "source": [
        "# Checking all the properties of dictionary"
      ],
      "metadata": {
        "id": "8B6ht7Iyewhs"
      }
    },
    {
      "cell_type": "code",
      "source": [
        "dir(thisdict)"
      ],
      "metadata": {
        "colab": {
          "base_uri": "https://localhost:8080/"
        },
        "id": "7Q2vtk82esVc",
        "outputId": "0ae930e2-8676-48ef-9704-a500d3bc25c9"
      },
      "execution_count": 27,
      "outputs": [
        {
          "output_type": "execute_result",
          "data": {
            "text/plain": [
              "['__class__',\n",
              " '__contains__',\n",
              " '__delattr__',\n",
              " '__delitem__',\n",
              " '__dir__',\n",
              " '__doc__',\n",
              " '__eq__',\n",
              " '__format__',\n",
              " '__ge__',\n",
              " '__getattribute__',\n",
              " '__getitem__',\n",
              " '__gt__',\n",
              " '__hash__',\n",
              " '__init__',\n",
              " '__init_subclass__',\n",
              " '__iter__',\n",
              " '__le__',\n",
              " '__len__',\n",
              " '__lt__',\n",
              " '__ne__',\n",
              " '__new__',\n",
              " '__reduce__',\n",
              " '__reduce_ex__',\n",
              " '__repr__',\n",
              " '__setattr__',\n",
              " '__setitem__',\n",
              " '__sizeof__',\n",
              " '__str__',\n",
              " '__subclasshook__',\n",
              " 'clear',\n",
              " 'copy',\n",
              " 'fromkeys',\n",
              " 'get',\n",
              " 'items',\n",
              " 'keys',\n",
              " 'pop',\n",
              " 'popitem',\n",
              " 'setdefault',\n",
              " 'update',\n",
              " 'values']"
            ]
          },
          "metadata": {},
          "execution_count": 27
        }
      ]
    },
    {
      "cell_type": "markdown",
      "source": [
        "# i) clear()\n",
        "* It is used to clear all the elements from the dictionary."
      ],
      "metadata": {
        "id": "GYxTK2iYe5S9"
      }
    },
    {
      "cell_type": "code",
      "source": [
        "car = {\n",
        "  \"brand\": \"Ford\",\n",
        "  \"model\": \"Mustang\",\n",
        "  \"year\": 1964\n",
        "}\n",
        "\n",
        "car.clear() # removes all the element from the dictionary\n",
        "\n",
        "print(car) # gives the empty dictionary\n"
      ],
      "metadata": {
        "colab": {
          "base_uri": "https://localhost:8080/"
        },
        "id": "78rmkjWbe2i4",
        "outputId": "8475c3b4-78a5-4fb6-99a9-85dcf725ab38"
      },
      "execution_count": 29,
      "outputs": [
        {
          "output_type": "stream",
          "name": "stdout",
          "text": [
            "{}\n"
          ]
        }
      ]
    },
    {
      "cell_type": "markdown",
      "source": [
        "# ii) Copy()\n",
        "* Returns the copy of the specified dictionary."
      ],
      "metadata": {
        "id": "jZw_wtAXfWIP"
      }
    },
    {
      "cell_type": "code",
      "source": [
        "car = {\n",
        "  \"brand\": \"Ford\",\n",
        "  \"model\": \"Mustang\",\n",
        "  \"year\": 1964\n",
        "}\n",
        "\n",
        "x = car.copy() # makes a duplicate copy of above dictionary and assigns to x.\n",
        "\n",
        "print(x)"
      ],
      "metadata": {
        "colab": {
          "base_uri": "https://localhost:8080/"
        },
        "id": "DNPbsC7gfLmq",
        "outputId": "b038deb8-f376-43a4-b581-42233bc493ad"
      },
      "execution_count": 30,
      "outputs": [
        {
          "output_type": "stream",
          "name": "stdout",
          "text": [
            "{'brand': 'Ford', 'model': 'Mustang', 'year': 1964}\n"
          ]
        }
      ]
    },
    {
      "cell_type": "markdown",
      "source": [
        "# iii) fromkeys()\n",
        "* It returns the dictionary with specified keys and specified values."
      ],
      "metadata": {
        "id": "a3_taqcSfqXJ"
      }
    },
    {
      "cell_type": "code",
      "source": [
        "x = ('key1', 'key2', 'key3') # specified keys\n",
        "y = 0 # specified values\n",
        "\n",
        "thisdict = dict.fromkeys(x, y)\n",
        "\n",
        "print(thisdict)"
      ],
      "metadata": {
        "colab": {
          "base_uri": "https://localhost:8080/"
        },
        "id": "CbKmqmW3fhc5",
        "outputId": "38ca8c2c-a684-4685-ba0e-9af7815e139d"
      },
      "execution_count": 31,
      "outputs": [
        {
          "output_type": "stream",
          "name": "stdout",
          "text": [
            "{'key1': 0, 'key2': 0, 'key3': 0}\n"
          ]
        }
      ]
    },
    {
      "cell_type": "markdown",
      "source": [
        "# iv) get()\n",
        "* returns the value of the item with the specified key. "
      ],
      "metadata": {
        "id": "qnnVwJjsgA0X"
      }
    },
    {
      "cell_type": "code",
      "source": [
        "car = {\n",
        "  \"brand\": \"Ford\",\n",
        "  \"model\": \"Mustang\",\n",
        "  \"year\": 1964\n",
        "}\n",
        "\n",
        "x = car.get(\"model\") # returns the value at key\"model\"\n",
        "\n",
        "print(x)"
      ],
      "metadata": {
        "colab": {
          "base_uri": "https://localhost:8080/"
        },
        "id": "8A_Dspf9f5hl",
        "outputId": "2c76843c-b447-48d9-deb8-04d946a71ab7"
      },
      "execution_count": 32,
      "outputs": [
        {
          "output_type": "stream",
          "name": "stdout",
          "text": [
            "Mustang\n"
          ]
        }
      ]
    },
    {
      "cell_type": "markdown",
      "source": [
        "# v)  items()\n",
        "* The items() method returns a view object. The view object contains the key-value pairs of the dictionary, as tuples in a list."
      ],
      "metadata": {
        "id": "iYOo5ORIgoiK"
      }
    },
    {
      "cell_type": "code",
      "source": [
        "car = {\n",
        "  \"brand\": \"Ford\",\n",
        "  \"model\": \"Mustang\",\n",
        "  \"year\": 1964\n",
        "}\n",
        "\n",
        "x = car.items()\n",
        "\n",
        "print(x)"
      ],
      "metadata": {
        "colab": {
          "base_uri": "https://localhost:8080/"
        },
        "id": "V6Zsh-QEgmiB",
        "outputId": "ffbd88eb-ecd0-4e5e-f260-f8148e1e0331"
      },
      "execution_count": 33,
      "outputs": [
        {
          "output_type": "stream",
          "name": "stdout",
          "text": [
            "dict_items([('brand', 'Ford'), ('model', 'Mustang'), ('year', 1964)])\n"
          ]
        }
      ]
    },
    {
      "cell_type": "markdown",
      "source": [
        "# vi) keys()\n",
        "* It returns the keys of the dictionary."
      ],
      "metadata": {
        "id": "VEBtbe9lg9gW"
      }
    },
    {
      "cell_type": "code",
      "source": [
        "car = {\n",
        "  \"brand\": \"Ford\",\n",
        "  \"model\": \"Mustang\",\n",
        "  \"year\": 1964\n",
        "}\n",
        "\n",
        "x = car.keys()\n",
        "\n",
        "print(x)"
      ],
      "metadata": {
        "colab": {
          "base_uri": "https://localhost:8080/"
        },
        "id": "GMWCCRS1g6Dx",
        "outputId": "0ad08774-f93a-4593-a6b8-7f4681a7f929"
      },
      "execution_count": 34,
      "outputs": [
        {
          "output_type": "stream",
          "name": "stdout",
          "text": [
            "dict_keys(['brand', 'model', 'year'])\n"
          ]
        }
      ]
    },
    {
      "cell_type": "markdown",
      "source": [
        "# vii) pop()\n",
        "* It is used to remove the element from the dictionary."
      ],
      "metadata": {
        "id": "-wL15U5ghQ-L"
      }
    },
    {
      "cell_type": "code",
      "source": [
        "car = {\n",
        "  \"brand\": \"Ford\",\n",
        "  \"model\": \"Mustang\",\n",
        "  \"year\": 1964\n",
        "}\n",
        "\n",
        "car.pop(\"model\") # it will remove the value present at the key \"model\"\n",
        "\n",
        "print(car)"
      ],
      "metadata": {
        "colab": {
          "base_uri": "https://localhost:8080/"
        },
        "id": "NwaxquEphJ8G",
        "outputId": "b4d6a74e-fa20-43a0-c4e4-8d82ba6a3cf0"
      },
      "execution_count": 35,
      "outputs": [
        {
          "output_type": "stream",
          "name": "stdout",
          "text": [
            "{'brand': 'Ford', 'year': 1964}\n"
          ]
        }
      ]
    },
    {
      "cell_type": "markdown",
      "source": [
        "# viii) popitem()\n",
        "* It is used to remove the element from dictionary that was last inserted."
      ],
      "metadata": {
        "id": "5S28DbtbhkPX"
      }
    },
    {
      "cell_type": "code",
      "source": [
        "car = {\n",
        "  \"brand\": \"Ford\",\n",
        "  \"model\": \"Mustang\",\n",
        "  \"year\": 1964\n",
        "}\n",
        "\n",
        "car.popitem()\n",
        "\n",
        "print(car)"
      ],
      "metadata": {
        "colab": {
          "base_uri": "https://localhost:8080/"
        },
        "id": "VGYRgRrMhdf3",
        "outputId": "09a22b52-bd61-4dcc-b4cc-244e36492d10"
      },
      "execution_count": 36,
      "outputs": [
        {
          "output_type": "stream",
          "name": "stdout",
          "text": [
            "{'brand': 'Ford', 'model': 'Mustang'}\n"
          ]
        }
      ]
    },
    {
      "cell_type": "markdown",
      "source": [
        "# ix) setdefault()\n",
        "* returns the value of the item with the specified key.\n",
        "* If the key does not exist, insert the key, with the specified value\n"
      ],
      "metadata": {
        "id": "VcK1JhJyhzrc"
      }
    },
    {
      "cell_type": "code",
      "source": [
        "car = {\n",
        "  \"brand\": \"Ford\",\n",
        "  \"model\": \"Mustang\",\n",
        "  \"year\": 1964\n",
        "}\n",
        "\n",
        "x = car.setdefault(\"model\", \"Bronco\")\n",
        "\n",
        "print(x)"
      ],
      "metadata": {
        "colab": {
          "base_uri": "https://localhost:8080/"
        },
        "id": "zRCZ_MgIh8Jd",
        "outputId": "76206d64-68df-4f45-b7a9-0514ffb23c14"
      },
      "execution_count": 37,
      "outputs": [
        {
          "output_type": "stream",
          "name": "stdout",
          "text": [
            "Mustang\n"
          ]
        }
      ]
    },
    {
      "cell_type": "markdown",
      "source": [
        "# x) update()\n",
        "* It is used to update the value of the dictionary at specified keys."
      ],
      "metadata": {
        "id": "KKGjVDpniIZo"
      }
    },
    {
      "cell_type": "code",
      "source": [
        "car = {\n",
        "  \"brand\": \"Ford\",\n",
        "  \"model\": \"Mustang\",\n",
        "  \"year\": 1964\n",
        "}\n",
        "\n",
        "car.update({\"color\": \"White\"})\n",
        "\n",
        "print(car)"
      ],
      "metadata": {
        "colab": {
          "base_uri": "https://localhost:8080/"
        },
        "id": "NDiSESEshyl9",
        "outputId": "450ceda8-0c1a-4100-94be-a3abdaf670e9"
      },
      "execution_count": 38,
      "outputs": [
        {
          "output_type": "stream",
          "name": "stdout",
          "text": [
            "{'brand': 'Ford', 'model': 'Mustang', 'year': 1964, 'color': 'White'}\n"
          ]
        }
      ]
    },
    {
      "cell_type": "markdown",
      "source": [
        "# xi) values()\n",
        "* It returns the value of the dictionary as list."
      ],
      "metadata": {
        "id": "z6yO0IWciTyE"
      }
    },
    {
      "cell_type": "code",
      "source": [
        "car = {\n",
        "  \"brand\": \"Ford\",\n",
        "  \"model\": \"Mustang\",\n",
        "  \"year\": 1964\n",
        "}\n",
        "\n",
        "x = car.values()\n",
        "\n",
        "print(x)"
      ],
      "metadata": {
        "colab": {
          "base_uri": "https://localhost:8080/"
        },
        "id": "_EAvTXMCiTEJ",
        "outputId": "38e47ab6-8121-4b6b-9728-e94b3b6eb3cb"
      },
      "execution_count": 39,
      "outputs": [
        {
          "output_type": "stream",
          "name": "stdout",
          "text": [
            "dict_values(['Ford', 'Mustang', 1964])\n"
          ]
        }
      ]
    },
    {
      "cell_type": "code",
      "source": [
        ""
      ],
      "metadata": {
        "id": "6nZhWRFJifGq"
      },
      "execution_count": null,
      "outputs": []
    }
  ]
}