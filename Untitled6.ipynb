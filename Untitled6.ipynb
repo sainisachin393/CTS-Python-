{
  "nbformat": 4,
  "nbformat_minor": 0,
  "metadata": {
    "colab": {
      "name": "Untitled6.ipynb",
      "provenance": [],
      "authorship_tag": "ABX9TyMNj93g7PpF+ixMn84ed+cQ",
      "include_colab_link": true
    },
    "kernelspec": {
      "name": "python3",
      "display_name": "Python 3"
    },
    "language_info": {
      "name": "python"
    }
  },
  "cells": [
    {
      "cell_type": "markdown",
      "metadata": {
        "id": "view-in-github",
        "colab_type": "text"
      },
      "source": [
        "<a href=\"https://colab.research.google.com/github/sainisachin393/Python-/blob/main/Untitled6.ipynb\" target=\"_parent\"><img src=\"https://colab.research.google.com/assets/colab-badge.svg\" alt=\"Open In Colab\"/></a>"
      ]
    },
    {
      "cell_type": "code",
      "execution_count": 6,
      "metadata": {
        "colab": {
          "base_uri": "https://localhost:8080/"
        },
        "id": "ev09BQPDbLGq",
        "outputId": "77447e4a-8c4a-476a-8baa-4b99ff6bc2b0"
      },
      "outputs": [
        {
          "output_type": "stream",
          "name": "stdout",
          "text": [
            "Writing script.py\n"
          ]
        }
      ],
      "source": [
        "%%writefile script.py\n",
        "a=1\n",
        "b=2\n",
        "\n",
        "c=a+b\n",
        "print(c)"
      ]
    },
    {
      "cell_type": "code",
      "source": [
        "%%writefile -a script.py\n",
        "a=2\n",
        "b=2\n",
        "c=a/2\n",
        "print(c)"
      ],
      "metadata": {
        "colab": {
          "base_uri": "https://localhost:8080/"
        },
        "id": "15DYKb_hbOLB",
        "outputId": "00a7c812-6606-4d50-8035-90dd6e4d1411"
      },
      "execution_count": 8,
      "outputs": [
        {
          "output_type": "stream",
          "name": "stdout",
          "text": [
            "Appending to script.py\n"
          ]
        }
      ]
    },
    {
      "cell_type": "code",
      "source": [
        ""
      ],
      "metadata": {
        "id": "2LtBN5q6bnlP"
      },
      "execution_count": null,
      "outputs": []
    }
  ]
}