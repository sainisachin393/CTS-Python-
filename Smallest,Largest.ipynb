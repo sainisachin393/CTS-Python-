{
  "nbformat": 4,
  "nbformat_minor": 0,
  "metadata": {
    "colab": {
      "name": "Smallest,Largest.ipynb",
      "provenance": [],
      "authorship_tag": "ABX9TyMCX2q8REb8uKmFIuQ3Al2Q",
      "include_colab_link": true
    },
    "kernelspec": {
      "name": "python3",
      "display_name": "Python 3"
    },
    "language_info": {
      "name": "python"
    }
  },
  "cells": [
    {
      "cell_type": "markdown",
      "metadata": {
        "id": "view-in-github",
        "colab_type": "text"
      },
      "source": [
        "<a href=\"https://colab.research.google.com/github/sainisachin393/Python-/blob/main/Smallest%2CLargest.ipynb\" target=\"_parent\"><img src=\"https://colab.research.google.com/assets/colab-badge.svg\" alt=\"Open In Colab\"/></a>"
      ]
    },
    {
      "cell_type": "code",
      "source": [
        ""
      ],
      "metadata": {
        "id": "vjPzLY7jc4kd"
      },
      "execution_count": 7,
      "outputs": []
    },
    {
      "cell_type": "code",
      "source": [
        "%%writefile script.py\n",
        "n1= int(input('Enter your first number:'))\n",
        "n2=int(input('Enter your second number:'))\n",
        "if n1>n2:\n",
        "  print('{} is the largest'.format(n1))\n",
        "elif n2>1:\n",
        "  print('{} is the largest'.format(n2))\n",
        "else:\n",
        "  print(\"both are equal\")"
      ],
      "metadata": {
        "colab": {
          "base_uri": "https://localhost:8080/"
        },
        "id": "B_Jt7V4pdRdB",
        "outputId": "a86d80a4-91e4-431c-8d02-fd4c9081d748"
      },
      "execution_count": 9,
      "outputs": [
        {
          "output_type": "stream",
          "name": "stdout",
          "text": [
            "Overwriting script.py\n"
          ]
        }
      ]
    },
    {
      "cell_type": "code",
      "source": [
        ""
      ],
      "metadata": {
        "id": "KAuLoD_wdcl9"
      },
      "execution_count": null,
      "outputs": []
    }
  ]
}