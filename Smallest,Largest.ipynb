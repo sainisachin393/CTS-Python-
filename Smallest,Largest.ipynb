{
  "nbformat": 4,
  "nbformat_minor": 0,
  "metadata": {
    "colab": {
      "name": "Smallest,Largest.ipynb",
      "provenance": [],
      "authorship_tag": "ABX9TyO2ofPO37BnkcdcHx8vyGCZ",
      "include_colab_link": true
    },
    "kernelspec": {
      "name": "python3",
      "display_name": "Python 3"
    },
    "language_info": {
      "name": "python"
    }
  },
  "cells": [
    {
      "cell_type": "markdown",
      "metadata": {
        "id": "view-in-github",
        "colab_type": "text"
      },
      "source": [
        "<a href=\"https://colab.research.google.com/github/sainisachin393/Python-/blob/main/Smallest%2CLargest.ipynb\" target=\"_parent\"><img src=\"https://colab.research.google.com/assets/colab-badge.svg\" alt=\"Open In Colab\"/></a>"
      ]
    },
    {
      "cell_type": "code",
      "source": [
        ""
      ],
      "metadata": {
        "id": "vjPzLY7jc4kd"
      },
      "execution_count": null,
      "outputs": []
    },
    {
      "cell_type": "code",
      "source": [
        "%%writefile script1.py\n",
        "n1= int(input('Enter your first number:'))\n",
        "n2=int(input('Enter your second number:'))\n"
      ],
      "metadata": {
        "colab": {
          "base_uri": "https://localhost:8080/"
        },
        "id": "B_Jt7V4pdRdB",
        "outputId": "8a483c74-2950-4762-dc58-7b6955e664c0"
      },
      "execution_count": null,
      "outputs": [
        {
          "output_type": "stream",
          "name": "stdout",
          "text": [
            "Writing script1.py\n"
          ]
        }
      ]
    },
    {
      "cell_type": "code",
      "source": [
        "%%writefile -a script1.py\n",
        "if n1>n2:\n",
        "  print('{} is the largest'.format(n1))\n"
      ],
      "metadata": {
        "id": "KAuLoD_wdcl9",
        "colab": {
          "base_uri": "https://localhost:8080/"
        },
        "outputId": "841aaaee-24bd-4211-ea23-9c383c1eaca8"
      },
      "execution_count": null,
      "outputs": [
        {
          "output_type": "stream",
          "name": "stdout",
          "text": [
            "Appending to script1.py\n"
          ]
        }
      ]
    },
    {
      "cell_type": "code",
      "source": [
        "%%writefile script2.py\n",
        "elif n2>n1:\n",
        "  print('{} is the largest'.format(n2))\n",
        "else:\n",
        "  print(\"both are equal\")"
      ],
      "metadata": {
        "colab": {
          "base_uri": "https://localhost:8080/"
        },
        "id": "PVddoYAuiUzJ",
        "outputId": "7b80ffcc-9e8f-40b3-ea3c-cd024f46b7c9"
      },
      "execution_count": 1,
      "outputs": [
        {
          "output_type": "stream",
          "name": "stdout",
          "text": [
            "Writing script2.py\n"
          ]
        }
      ]
    },
    {
      "cell_type": "code",
      "source": [
        ""
      ],
      "metadata": {
        "id": "VQXHfF_Ti9bU"
      },
      "execution_count": null,
      "outputs": []
    }
  ]
}